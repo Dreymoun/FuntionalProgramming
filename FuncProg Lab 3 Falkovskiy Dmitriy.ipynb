{
 "cells": [
  {
   "cell_type": "code",
   "execution_count": 13,
   "id": "95c91d5d",
   "metadata": {},
   "outputs": [
    {
     "name": "stdout",
     "output_type": "stream",
     "text": [
      "What i need to print?\n",
      "what\n",
      "How many times i need to print it?\n",
      "3\n",
      "what\n",
      "what\n",
      "what\n"
     ]
    }
   ],
   "source": [
    "print(\"What i need to print?\")\n",
    "message = input()\n",
    "print(\"How many times i need to print it?\")\n",
    "a = int(input())\n",
    "for i in range(0,a):\n",
    " print(message)"
   ]
  },
  {
   "cell_type": "markdown",
   "id": "0de66273",
   "metadata": {},
   "source": []
  },
  {
   "cell_type": "code",
   "execution_count": 23,
   "id": "cdce1e84",
   "metadata": {},
   "outputs": [
    {
     "name": "stdout",
     "output_type": "stream",
     "text": [
      "three\n",
      "4\n",
      "five\n",
      "6\n",
      "['three', '4', 'five', '6']\n"
     ]
    }
   ],
   "source": [
    "list = []\n",
    "for i in range(0,4):\n",
    "    a = input()\n",
    "    list.append(a)\n",
    "print(list)"
   ]
  },
  {
   "cell_type": "code",
   "execution_count": 28,
   "id": "68ac8bcc",
   "metadata": {},
   "outputs": [
    {
     "name": "stdout",
     "output_type": "stream",
     "text": [
      "Введите число а\n",
      "1\n",
      "Введите число b\n",
      "10\n",
      "Случайное число от а до b: 5\n"
     ]
    }
   ],
   "source": [
    "import random\n",
    "print(\"Введите число а\")\n",
    "a = int(input())\n",
    "print(\"Введите число b\")\n",
    "b = int(input())\n",
    "random1 = random.randint(a, b)\n",
    "print(f\"Случайное число от а до b: {random1}\")"
   ]
  },
  {
   "cell_type": "code",
   "execution_count": 92,
   "id": "ce2be1e7",
   "metadata": {},
   "outputs": [
    {
     "name": "stdout",
     "output_type": "stream",
     "text": [
      "Generating random number within a given range \n",
      "Random integer:  17\n",
      "[1, 2, 3, 4, 5, 6, 7, 8, 9, 10, 11, 12, 13, 14, 15, 16, 17]\n",
      "Random integer:  20\n",
      "Random integer:  155\n"
     ]
    }
   ],
   "source": [
    "import random\n",
    "list1 = []\n",
    "print(\"Generating random number within a given range \") \n",
    "number1 = random.randrange(30) \n",
    "print(\"Random integer: \", number1)\n",
    "for i in range(0,number1):\n",
    "    list1.append(i+1)\n",
    "print(list1)\n",
    "number2 = random.randrange(10, 30) \n",
    "print(\"Random integer: \", number2)\n",
    "number3 = random.randrange(25, 201, 5) \n",
    "print(\"Random integer: \", number3)"
   ]
  },
  {
   "cell_type": "code",
   "execution_count": 94,
   "id": "c50870e6",
   "metadata": {},
   "outputs": [
    {
     "data": {
      "text/plain": [
       "0.6921623188357868"
      ]
     },
     "execution_count": 94,
     "metadata": {},
     "output_type": "execute_result"
    }
   ],
   "source": [
    "random.random()"
   ]
  },
  {
   "cell_type": "code",
   "execution_count": 106,
   "id": "87fdf45d",
   "metadata": {},
   "outputs": [
    {
     "name": "stdout",
     "output_type": "stream",
     "text": [
      "[(0, 'John'), (1, 'Jane'), (2, 'Doe')]\n"
     ]
    }
   ],
   "source": [
    "names = [\"John\", \"Jane\", \"Doe\"]\n",
    "enumNames = enumerate(names)\n",
    "del list\n",
    "print(list(enumNames))\n",
    "# [(0, 'John'), (1, 'Jane'), (2, 'Doe')]"
   ]
  },
  {
   "cell_type": "code",
   "execution_count": 107,
   "id": "971b7df7",
   "metadata": {},
   "outputs": [
    {
     "name": "stdout",
     "output_type": "stream",
     "text": [
      "3\n",
      "8\n",
      "numbers from a to b: \n",
      "4\n",
      "5\n",
      "6\n",
      "7\n",
      "8\n"
     ]
    }
   ],
   "source": [
    "a = int(input())\n",
    "b = int(input())\n",
    "print(\"numbers from a to b: \")\n",
    "for i in range(a,b):\n",
    "    print(i+1)"
   ]
  },
  {
   "cell_type": "markdown",
   "id": "1d895c62",
   "metadata": {},
   "source": [
    "a = int(input())\n",
    "b = int(input())\n",
    "print(\"numbers from a to b: \")\n",
    "if(a < b):\n",
    "    for i in range(a,b):\n",
    "        print(i)\n",
    "        i = i + 1\n",
    "else:\n",
    "    for i in range (a,b):\n",
    "        print(i)\n",
    "        i = i - 1"
   ]
  },
  {
   "cell_type": "code",
   "execution_count": 116,
   "id": "19d153d3",
   "metadata": {},
   "outputs": [
    {
     "name": "stdout",
     "output_type": "stream",
     "text": [
      "3\n",
      "5\n",
      "numbers from a to b: \n",
      "3\n",
      "4\n",
      "5\n"
     ]
    }
   ],
   "source": [
    "a = int(input()) \n",
    "b = int(input()) \n",
    "print(\"numbers from a to b: \") \n",
    "if(a < b): \n",
    "    for i in range(a,b+1, +1): \n",
    "        print(i) \n",
    "else: \n",
    "    for i in range (a, b - 1, -1): \n",
    "        print(i) "
   ]
  },
  {
   "cell_type": "code",
   "execution_count": 122,
   "id": "c7bd75b1",
   "metadata": {},
   "outputs": [
    {
     "name": "stdout",
     "output_type": "stream",
     "text": [
      "10\n",
      "1\n",
      "numbers from a to b:\n",
      "9\n",
      "7\n",
      "5\n",
      "3\n",
      "1\n"
     ]
    }
   ],
   "source": [
    "a = int(input()) \n",
    "b = int(input())\n",
    "print(\"numbers from a to b:\")\n",
    "for i in range (a - (a + 1) % 2, b - b % 2, -2): \n",
    "    print(i) "
   ]
  },
  {
   "cell_type": "code",
   "execution_count": 124,
   "id": "d90ad089",
   "metadata": {},
   "outputs": [
    {
     "name": "stdout",
     "output_type": "stream",
     "text": [
      "5\n",
      "1\n",
      "2\n",
      "4\n",
      "5\n",
      "3\n"
     ]
    }
   ],
   "source": [
    "print(\"Введите длину числовой последовательности: \")\n",
    "n = int(input())\n",
    "sum = 0\n",
    "for i in range(1, n + 1):\n",
    "    sum += i\n",
    "print(\"Введите последовательность, пропустив одно число: \")\n",
    "for i in range(n - 1):\n",
    "    sum -= int(input())\n",
    "print(sum)\n"
   ]
  },
  {
   "cell_type": "code",
   "execution_count": null,
   "id": "d80b644d",
   "metadata": {},
   "outputs": [],
   "source": []
  }
 ],
 "metadata": {
  "kernelspec": {
   "display_name": "Python 3 (ipykernel)",
   "language": "python",
   "name": "python3"
  },
  "language_info": {
   "codemirror_mode": {
    "name": "ipython",
    "version": 3
   },
   "file_extension": ".py",
   "mimetype": "text/x-python",
   "name": "python",
   "nbconvert_exporter": "python",
   "pygments_lexer": "ipython3",
   "version": "3.9.12"
  }
 },
 "nbformat": 4,
 "nbformat_minor": 5
}
