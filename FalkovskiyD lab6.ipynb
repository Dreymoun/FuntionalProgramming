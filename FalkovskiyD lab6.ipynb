{
 "cells": [
  {
   "cell_type": "code",
   "execution_count": 5,
   "id": "204d5c50",
   "metadata": {},
   "outputs": [
    {
     "name": "stdout",
     "output_type": "stream",
     "text": [
      "\n",
      "Резюме\n",
      "ФИО: Фальковский Дмитрий Олегович \n",
      "Контакты: +77078530910, dmitriy.02@list.ru, \n",
      "Владение языками: Русский, Английский, \n",
      "Владение языками программирования: C++, Java, Python, Html, CSS, JavaScript, \n",
      "Образование: Незаконченное высшее, \n",
      "\n",
      "Резюме:  (['ФИО', ['Фальковский', 'Дмитрий', 'Олегович']], ['Контакты', ['+77078530910', 'dmitriy.02@list.ru']], ['Владение языками', ['Русский', 'Английский']], ['Владение языками программирования', ['C++', 'Java', 'Python', 'Html, CSS', 'JavaScript']], ['Образование', ['Незаконченное высшее']])\n",
      "\n",
      "Преобразование кортежа в словарь:  {'ФИО': ['Фальковский', 'Дмитрий', 'Олегович'], 'Контакты': ['+77078530910', 'dmitriy.02@list.ru'], 'Владение языками': ['Русский', 'Английский'], 'Владение языками программирования': ['C++', 'Java', 'Python', 'Html, CSS', 'JavaScript'], 'Образование': ['Незаконченное высшее']}\n",
      "\n",
      "Длина кортежа:  5\n",
      "\n",
      "Преобразование кортежа в список:  [['ФИО', ['Фальковский', 'Дмитрий', 'Олегович']], ['Контакты', ['+77078530910', 'dmitriy.02@list.ru']], ['Владение языками', ['Русский', 'Английский']], ['Владение языками программирования', ['C++', 'Java', 'Python', 'Html, CSS', 'JavaScript']], ['Образование', ['Незаконченное высшее']]]\n",
      "\n",
      "Тип данных резюме:  <class 'tuple'>\n",
      "\n",
      "Индекс в кортеже [\"ФИО\", [\"Фальковский\", \"Дмитрий\", \"Олегович\"]]:  0\n",
      "\n",
      "ФИО:  {'Фальковский', 'Дмитрий', 'Олегович'}\n",
      "\n",
      "Поиск 'Дмитрий':  True\n",
      "\n",
      "Тип данных:  <class 'set'>\n",
      "\n",
      "В словарь:  ('Фальковский', 'Дмитрий', 'Олегович')\n",
      "\n",
      "Тип данных:  <class 'set'>\n",
      "\n",
      "В список:  ['Фальковский', 'Дмитрий', 'Олегович']\n",
      "\n",
      "Тип данных:  <class 'set'>\n",
      "\n",
      "Длина множества:  3\n"
     ]
    }
   ],
   "source": [
    "#Резюме\n",
    "def show_resume(resume):\n",
    "    print()\n",
    "    print(\"Резюме\")\n",
    "    for i in range(len(resume)):\n",
    "            print(resume[i][0], end=\": \")\n",
    "            for j in range(len(resume[i][1])):\n",
    "                if i == 0:\n",
    "                        print(resume[i][1][j], end=\" \")\n",
    "                elif i == 1 or i == 2 or i == 3 or i == 4:\n",
    "                        print(resume[i][1][j], end = \", \")\n",
    "                elif i == 5 or i == 6:\n",
    "                    if len(resume[i][1]) > 1:\n",
    "                        if j == 0:\n",
    "                            print(f\"\\n{resume[i][1][j]}\")\n",
    "                        elif j == len(resume[i][1]) - 1:\n",
    "                            print(resume[i][1][j], end = \"\")\n",
    "                        else:\n",
    "                            print(resume[i][1][j], end = \",\\n\")\n",
    "                    else:\n",
    "                        print(resume[i][1][j], end = \"\")\n",
    "            print()\n",
    "resume = ([\"ФИО\", [\"Фальковский\", \"Дмитрий\", \"Олегович\"]], \n",
    "         [\"Контакты\", [\"+77078530910\", \"dmitriy.02@list.ru\"]], \n",
    "         [\"Владение языками\", [\"Русский\", \"Английский\"]], \n",
    "         [\"Владение языками программирования\", [\"C++\", \"Java\", \"Python\", \"Html, CSS\", \"JavaScript\"]], \n",
    "         [\"Образование\", [\"Незаконченное высшее\"]])\n",
    "\n",
    "show_resume(resume)\n",
    "print()\n",
    "print(\"Резюме: \", resume)\n",
    "print()\n",
    "print(\"Преобразование кортежа в словарь: \", dict(resume))\n",
    "print()\n",
    "print(\"Длина кортежа: \", len(resume))\n",
    "print()\n",
    "print(\"Преобразование кортежа в список: \", list(resume))\n",
    "print()\n",
    "print(\"Тип данных резюме: \", type(resume))\n",
    "print()\n",
    "print('Индекс в кортеже [\"ФИО\", [\"Фальковский\", \"Дмитрий\", \"Олегович\"]]: ', \n",
    "      resume.index([\"ФИО\", [\"Фальковский\", \"Дмитрий\", \"Олегович\"]]))\n",
    "set_resume = set(resume[0][1])\n",
    "print()\n",
    "print(\"ФИО: \", set_resume)\n",
    "print()\n",
    "print(\"Поиск 'Дмитрий': \", \"Дмитрий\" in set_resume)\n",
    "print()\n",
    "print(\"Тип данных: \", type(set_resume))\n",
    "print()\n",
    "print(\"В словарь: \", tuple(set_resume))\n",
    "print()\n",
    "print(\"В список: \", list(set_resume))\n",
    "print()\n",
    "print(\"Длина множества: \", len(set_resume))\n",
    "\n"
   ]
  },
  {
   "cell_type": "code",
   "execution_count": 6,
   "id": "ec953c5a",
   "metadata": {},
   "outputs": [
    {
     "name": "stdout",
     "output_type": "stream",
     "text": [
      "\n",
      "Кортеж 1:  (2, 0, 1, 1, 3, 3, 1, 5, 5, 3)\n",
      "\n",
      "Кортеж 2:  (0, -5, -4, -2, -4, -5, -2, -5, -5, -2)\n",
      "\n",
      "Кортеж 3:  (2, 0, 1, 1, 3, 3, 1, 5, 5, 3, 0, -5, -4, -2, -4, -5, -2, -5, -5, -2)\n",
      "\n",
      "Количество нулей в кортеже 3:  2\n"
     ]
    }
   ],
   "source": [
    "#1\n",
    "import random\n",
    "\n",
    "def fill_tuple(tuple0, n, m):\n",
    "    tuple0 = list(tuple0)\n",
    "    for i in range(10):\n",
    "        tuple0.append(random.randint(n, m))\n",
    "    tuple0 = tuple(tuple0)\n",
    "    return tuple0\n",
    "\n",
    "tuple1 = ()\n",
    "tuple2 = ()\n",
    "\n",
    "tuple1 = fill_tuple(tuple1, 0, 5)\n",
    "print()\n",
    "print(\"Кортеж 1: \", tuple1)\n",
    "print()\n",
    "tuple2 = fill_tuple(tuple2, -5, 0)\n",
    "print(\"Кортеж 2: \", tuple2)\n",
    "print()\n",
    "tuple3 = tuple1 + tuple2\n",
    "print(\"Кортеж 3: \", tuple3)\n",
    "print()\n",
    "print(\"Количество нулей в кортеже 3: \", tuple3.count(0))"
   ]
  },
  {
   "cell_type": "code",
   "execution_count": 8,
   "id": "53ce2df3",
   "metadata": {},
   "outputs": [
    {
     "name": "stdout",
     "output_type": "stream",
     "text": [
      "Кортеж \"Матрёшка\":  (1, (3.141592653589793, ((1+3j), ('Тут какой то текст', ()))))\n",
      "Строка из кортежа:  Тут какой то текст\n"
     ]
    }
   ],
   "source": [
    "#2\n",
    "from math import pi\n",
    "matryoshka = (1, (pi, (1 + 3j, ('Тут какой то текст', ()))))\n",
    "print('Кортеж \"Матрёшка\": ', matryoshka)\n",
    "print('Строка из кортежа: ', matryoshka[1][1][1][0])"
   ]
  },
  {
   "cell_type": "code",
   "execution_count": 11,
   "id": "1e6dfc4b",
   "metadata": {},
   "outputs": [
    {
     "name": "stdout",
     "output_type": "stream",
     "text": [
      "\n",
      "Первый день: (Расходы на такси: 1500, Расходы на покушать: 2500, Кофе с утра: 600);\n",
      "Второй день: (Расходы на такси: 0, Расходы на покушать: 0, Кофе с утра: 0);\n",
      "Третий день: (Расходы на такси: 2500, Расходы на покушать: 2500, Кофе с утра: 600);\n",
      "Четвертый день: (Расходы на такси: 0, Расходы на покушать: 0, Кофе с утра: 0);\n",
      "Пятый день: (Расходы на такси: 2800, Расходы на покушать: 2500, Кофе с утра: 600);\n",
      "Шестой день: (Расходы на такси: 5000, Расходы на покушать: 0, Кофе с утра: 600);\n",
      "Седьмой день: (Расходы на такси: 0, Расходы на покушать: 0, Кофе с утра: 0);\n",
      "\n",
      "\n",
      "\n",
      "Общие расходы за 1 день: 4600\n",
      "\n",
      "Общие расходы за 2 день: 0\n",
      "\n",
      "Общие расходы за 3 день: 5600\n",
      "\n",
      "Общие расходы за 4 день: 0\n",
      "\n",
      "Общие расходы за 5 день: 5900\n",
      "\n",
      "Общие расходы за 6 день: 5600\n",
      "\n",
      "Общие расходы за 7 день: 0\n",
      "\n",
      "Список общих расходов за каждый день: [4600, 0, 5600, 0, 5900, 5600, 0]\n",
      "Список расходов за 1 неделю: 21700\n"
     ]
    }
   ],
   "source": [
    "#3\n",
    "taxi = 'Расходы на такси'\n",
    "dinner = 'Расходы на покушать'\n",
    "coffe = 'Кофе с утра'\n",
    "\n",
    "day1 = ((taxi, 1500), (dinner, 2500), (coffe, 600))\n",
    "day2 = ((taxi, 0), (dinner, 0), (coffe, 0))\n",
    "day3 = ((taxi, 2500), (dinner, 2500), (coffe, 600))\n",
    "day4 = ((taxi, 0), (dinner, 0), (coffe, 0))\n",
    "day5 = ((taxi, 2800), (dinner, 2500), (coffe, 600))\n",
    "day6 = ((taxi, 5000), (dinner, 0), (coffe, 600))\n",
    "day7 = ((taxi, 0), (dinner, 0), (coffe, 0))\n",
    "\n",
    "expenses = ((\"Первый день\", day1), (\"Второй день\", day2), (\"Третий день\", day3), \n",
    "                    (\"Четвертый день\", day4), (\"Пятый день\", day5), \n",
    "                    (\"Шестой день\", day6), (\"Седьмой день\", day7))\n",
    "print()\n",
    "for i in range(len(expenses)):\n",
    "    expenses_week = []\n",
    "\n",
    "    for j in range(len(expenses[i][1])):\n",
    "        expenses_week.append(expenses[i][1][j])\n",
    "    \n",
    "    print(f'{expenses[i][0]}: ({expenses_week[0][0]}: {expenses_week[0][1]}, {expenses_week[1][0]}: {expenses_week[1][1]}, {expenses_week[2][0]}: {expenses_week[2][1]});')\n",
    "\n",
    "print()\n",
    "expenses_sum = []\n",
    "print()\n",
    "for i in range(len(expenses)):\n",
    "    expenses_day = 0\n",
    "\n",
    "    for j in range(len(expenses[i][1])):\n",
    "        expenses_day += expenses[i][1][j][1]\n",
    "    print()\n",
    "    print(f'Общие расходы за {i + 1} день:', expenses_day)\n",
    "\n",
    "    expenses_sum.append(expenses_day)\n",
    "print()\n",
    "print('Список общих расходов за каждый день:', expenses_sum)\n",
    "print('Список расходов за 1 неделю:', sum(expenses_sum))\n"
   ]
  },
  {
   "cell_type": "code",
   "execution_count": 18,
   "id": "f2a5673f",
   "metadata": {},
   "outputs": [
    {
     "name": "stdout",
     "output_type": "stream",
     "text": [
      "Введите список имен, разделенных запятыми: Ваня, Гриша, Валек, валенок\n",
      "Имена, содержащие 'ва':  ['ваня', ' валек', ' валенок']\n"
     ]
    }
   ],
   "source": [
    "#4\n",
    "students = input(\"Введите список имен, разделенных запятыми: \").split(',')\n",
    "students = [name.lower() for name in students]\n",
    "result_list = []\n",
    "for name in students:\n",
    "    if \"ва\" in name:\n",
    "        result_list.append(name)\n",
    "print(\"Имена, содержащие 'ва': \", result_list)"
   ]
  },
  {
   "cell_type": "code",
   "execution_count": 19,
   "id": "f169dc43",
   "metadata": {},
   "outputs": [
    {
     "name": "stdout",
     "output_type": "stream",
     "text": [
      "Введите казахский текст на кириллице: Елизар сабақтың қысқаша мазмұнын жасайды\n",
      "Перевод на латиницу:  Еlizar sabaqtyń qysqasha mazmunyn jasaidy\n"
     ]
    }
   ],
   "source": [
    "#5\n",
    "conversion_dict = {\n",
    "    'а': 'a', 'ә': 'á', 'б': 'b', 'в': 'v', 'г': 'g', 'ғ': 'ǵ', 'д': 'd',\n",
    "    'е': 'e', 'ё': 'io', 'ж': 'j', 'з': 'z', 'и': 'i', 'й': 'i', 'к': 'k',\n",
    "    'қ': 'q', 'л': 'l', 'м': 'm', 'н': 'n', 'ң': 'ń', 'о': 'o', 'ө': 'ó',\n",
    "    'п': 'p', 'р': 'r', 'с': 's', 'т': 't', 'у': 'y', 'ұ': 'u', 'ү': 'ú',\n",
    "    'ф': 'f', 'х': 'h', 'һ': 'h', 'ц': 'ts', 'ч': 'ch', 'ш': 'sh', 'щ': 'sch',\n",
    "    'ъ': '', 'ы': 'y', 'і': 'i', 'ь': '', 'э': 'e', 'ю': 'yu', 'я': 'ya'\n",
    "}\n",
    "text = input(\"Введите казахский текст на кириллице: \")\n",
    "latin_text = \"\"\n",
    "for letter in text:\n",
    "    if letter in conversion_dict:\n",
    "        latin_text += conversion_dict[letter]\n",
    "    else:\n",
    "        latin_text += letter\n",
    "print(\"Перевод на латиницу: \", latin_text)"
   ]
  }
 ],
 "metadata": {
  "kernelspec": {
   "display_name": "Python 3 (ipykernel)",
   "language": "python",
   "name": "python3"
  },
  "language_info": {
   "codemirror_mode": {
    "name": "ipython",
    "version": 3
   },
   "file_extension": ".py",
   "mimetype": "text/x-python",
   "name": "python",
   "nbconvert_exporter": "python",
   "pygments_lexer": "ipython3",
   "version": "3.9.12"
  }
 },
 "nbformat": 4,
 "nbformat_minor": 5
}
